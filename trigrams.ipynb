{
 "cells": [
  {
   "cell_type": "markdown",
   "metadata": {},
   "source": [
    "# Trigram Model Project\n",
    "In this notebook, I will create a trigram model of the English language using text files from Project Gutenberg. The goal is to clean the text and count how often sequences of three letters (trigrams) appear.\n"
   ]
  },
  {
   "cell_type": "markdown",
   "metadata": {},
   "source": [
    "## Step 1: Load Text Files\n",
    "I will select five free English works in Plain Text UTF-8 format from Project Gutenberg. \n"
   ]
  },
  {
   "cell_type": "code",
   "execution_count": null,
   "metadata": {},
   "outputs": [],
   "source": [
    "# List of text files to load\n",
    "files = [\n",
    "    'Frankenstein.txt',  # Replace with actual filenames\n",
    "    'Dracula.txt',\n",
    "    'Leviathan.txt',\n",
    "    'RomeoJuliet.txt',\n",
    "    'MobyDick.txt'\n",
    "]\n",
    "\n",
    "# Initialize an empty string to hold the combined text\n",
    "combined_text = ''\n",
    "\n",
    "# Load each file and append its content to combined_text\n",
    "for filename in files:\n",
    "    with open(filename, 'r', encoding='utf-8') as file:\n",
    "        content = file.read()  # Read the entire file content\n",
    "        combined_text += content + ' '  # Add a space to separate texts\n"
   ]
  }
 ],
 "metadata": {
  "kernelspec": {
   "display_name": "Python 3",
   "language": "python",
   "name": "python3"
  },
  "language_info": {
   "name": "python",
   "version": "3.11.9"
  }
 },
 "nbformat": 4,
 "nbformat_minor": 2
}
