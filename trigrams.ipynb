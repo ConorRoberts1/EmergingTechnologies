{
 "cells": [
  {
   "cell_type": "markdown",
   "metadata": {},
   "source": [
    "## Step 1: Setup and Import Libraries\n",
    "\n",
    "We begin by importing the required Python libraries:\n",
    "- `os` for file and directory handling.\n",
    "- `re` for regular expressions, used in text cleaning.\n",
    "- `defaultdict` from `collections` for counting trigrams efficiently.\n",
    "\n",
    "These libraries are standard and require no external installation.\n"
   ]
  },
  {
   "cell_type": "code",
   "execution_count": null,
   "metadata": {},
   "outputs": [],
   "source": [
    "import os\n",
    "import re\n",
    "from collections import defaultdict\n"
   ]
  },
  {
   "cell_type": "markdown",
   "metadata": {},
   "source": [
    "## Step 2: Define `sanitizeText` Function\n",
    "\n",
    "### Purpose\n",
    "This function takes raw text from Project Gutenberg and:\n",
    "1. Removes the preamble (content before the main text) using the marker `*** START OF THIS PROJECT GUTENBERG EBOOK ***`.\n",
    "2. Removes the postamble (content after the main text) using the marker `*** END OF THIS PROJECT GUTENBERG EBOOK ***`.\n",
    "3. Removes unwanted characters, leaving only uppercase letters, spaces, and full stops.\n",
    "4. Converts the cleaned text to uppercase for consistency.\n",
    "\n",
    "### Why is this step important?\n",
    "Cleaning the text ensures our trigram model is based solely on meaningful characters.\n"
   ]
  },
  {
   "cell_type": "code",
   "execution_count": null,
   "metadata": {},
   "outputs": [],
   "source": [
    "def sanitizeText(text):\n",
    "    \"\"\"\n",
    "    Cleans up a Project Gutenberg text by removing preamble and postamble \n",
    "    and unwanted characters, leaving only letters, spaces, and full stops.\n",
    "    \n",
    "    Parameters:\n",
    "    text (str): The raw text from the file.\n",
    "\n",
    "    Returns:\n",
    "    str: The cleaned text.\n",
    "    \"\"\"\n",
    "    # Identify preamble and postamble markers\n",
    "    preamble_marker = \"*** START OF THIS PROJECT GUTENBERG EBOOK ***\"\n",
    "    postamble_marker = \"*** END OF THIS PROJECT GUTENBERG EBOOK ***\"\n",
    "\n",
    "    # Remove preamble\n",
    "    preamble_index = text.find(preamble_marker)\n",
    "    if preamble_index != -1:\n",
    "        text = text[preamble_index + len(preamble_marker):]\n",
    "\n",
    "    # Remove postamble\n",
    "    postamble_index = text.find(postamble_marker)\n",
    "    if postamble_index != -1:\n",
    "        text = text[:postamble_index]\n",
    "\n",
    "    # Remove unwanted characters\n",
    "    text = re.sub(r'[^A-Za-z. ]', '', text)\n",
    "\n",
    "    # Convert to uppercase\n",
    "    text = text.upper()\n",
    "\n",
    "    return text\n"
   ]
  }
 ],
 "metadata": {
  "kernelspec": {
   "display_name": "Python 3",
   "language": "python",
   "name": "python3"
  },
  "language_info": {
   "name": "python",
   "version": "3.11.9"
  }
 },
 "nbformat": 4,
 "nbformat_minor": 2
}
