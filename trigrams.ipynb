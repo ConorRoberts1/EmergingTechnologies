{
 "cells": [
  {
   "cell_type": "markdown",
   "metadata": {},
   "source": [
    "# Trigram Model Project\n",
    "In this notebook, I will create a trigram model of the English language using text files from Project Gutenberg. The goal is to clean the text and count how often sequences of three letters (trigrams) appear.\n"
   ]
  },
  {
   "cell_type": "markdown",
   "metadata": {},
   "source": [
    "## Step 1: Load Text Files\n",
    "I will select five free English works in Plain Text UTF-8 format from Project Gutenberg. \n"
   ]
  },
  {
   "cell_type": "code",
   "execution_count": 1,
   "metadata": {},
   "outputs": [],
   "source": [
    "# List of text files to load\n",
    "files = [\n",
    "    'Frankenstein.txt',  # Replace with actual filenames\n",
    "    'Dracula.txt',\n",
    "    'Leviathan.txt',\n",
    "    'RomeoJuliet.txt',\n",
    "    'MobyDick.txt'\n",
    "]\n",
    "\n",
    "# Initialize an empty string to hold the combined text\n",
    "combined_text = ''\n",
    "\n",
    "# Load each file and append its content to combined_text\n",
    "for filename in files:\n",
    "    with open(filename, 'r', encoding='utf-8') as file:\n",
    "        content = file.read()  # Read the entire file content\n",
    "        combined_text += content + ' '  # Add a space to separate texts\n"
   ]
  },
  {
   "cell_type": "markdown",
   "metadata": {},
   "source": [
    "## Preprocessing the Text\n",
    " remove all characters except for \n",
    "letters, full stops, and spaces, and convert all letters to uppercase.\n"
   ]
  },
  {
   "cell_type": "code",
   "execution_count": null,
   "metadata": {},
   "outputs": [],
   "source": [
    "import re\n",
    "\n",
    "# Function to preprocess the text\n",
    "def preprocess_text(text):\n",
    "    # Remove anything that is not an ASCII letter, full stop, or space\n",
    "    cleaned_text = re.sub(r'[^A-Za-z. ]+', '', text)\n",
    "    # Convert text to uppercase\n",
    "    cleaned_text = cleaned_text.upper()\n",
    "    return cleaned_text.strip()\n",
    "\n",
    "# Preprocess the combined text\n",
    "cleaned_text = preprocess_text(combined_text)\n",
    "\n"
   ]
  },
  {
   "cell_type": "markdown",
   "metadata": {},
   "source": [
    "### Step 3: Create the Trigram Model\n",
    "In this step, we define a function `create_trigram_model` that generates a trigram model from the cleaned text. The function will:\n",
    "1. Split the cleaned text into words.\n",
    "2. Iterate through each word and form trigrams (sequences of three characters).\n",
    "3. Count the occurrences of each trigram and store them in a dictionary.\n",
    "4. Return the trigram model."
   ]
  },
  {
   "cell_type": "code",
   "execution_count": null,
   "metadata": {},
   "outputs": [],
   "source": [
    "def create_trigram_model(text):\n",
    "    trigram_model = {}\n",
    "    \n",
    "    # Split the cleaned text into words\n",
    "    words = text.split()  # Split by spaces\n",
    "    \n",
    "    # Iterate over each word to form trigrams\n",
    "    for word in words:\n",
    "        # Create trigrams from the word\n",
    "        for i in range(len(word) - 2):  # -2 to avoid index out of range\n",
    "            trigram = word[i:i+3]  # Get the trigram\n",
    "            if trigram in trigram_model:\n",
    "                trigram_model[trigram] += 1  # Increment count\n",
    "            else:\n",
    "                trigram_model[trigram] = 1  # Initialize count\n",
    "    \n",
    "    return trigram_model"
   ]
  }
 ],
 "metadata": {
  "kernelspec": {
   "display_name": "Python 3",
   "language": "python",
   "name": "python3"
  },
  "language_info": {
   "codemirror_mode": {
    "name": "ipython",
    "version": 3
   },
   "file_extension": ".py",
   "mimetype": "text/x-python",
   "name": "python",
   "nbconvert_exporter": "python",
   "pygments_lexer": "ipython3",
   "version": "3.11.9"
  }
 },
 "nbformat": 4,
 "nbformat_minor": 2
}
